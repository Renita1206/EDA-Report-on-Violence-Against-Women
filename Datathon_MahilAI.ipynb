{
 "cells": [
  {
   "cell_type": "markdown",
   "metadata": {
    "id": "xSZZBPvPApgW"
   },
   "source": [
    "## Setting Up"
   ]
  },
  {
   "cell_type": "code",
   "execution_count": 1,
   "metadata": {
    "colab": {
     "background_save": true
    },
    "id": "txr3XA83AdLQ"
   },
   "outputs": [],
   "source": [
    "import pandas as pd\n",
    "import numpy as np\n",
    "import matplotlib.pyplot as plt"
   ]
  },
  {
   "cell_type": "code",
   "execution_count": 2,
   "metadata": {
    "colab": {
     "background_save": true,
     "base_uri": "https://localhost:8080/",
     "height": 321
    },
    "id": "Sm3W9mfnAutj"
   },
   "outputs": [
    {
     "data": {
      "text/html": [
       "<div>\n",
       "<style scoped>\n",
       "    .dataframe tbody tr th:only-of-type {\n",
       "        vertical-align: middle;\n",
       "    }\n",
       "\n",
       "    .dataframe tbody tr th {\n",
       "        vertical-align: top;\n",
       "    }\n",
       "\n",
       "    .dataframe thead th {\n",
       "        text-align: right;\n",
       "    }\n",
       "</style>\n",
       "<table border=\"1\" class=\"dataframe\">\n",
       "  <thead>\n",
       "    <tr style=\"text-align: right;\">\n",
       "      <th></th>\n",
       "      <th>STATE/UT</th>\n",
       "      <th>DISTRICT</th>\n",
       "      <th>Year</th>\n",
       "      <th>Rape</th>\n",
       "      <th>Kidnapping and Abduction</th>\n",
       "      <th>Dowry Deaths</th>\n",
       "      <th>Assault on women with intent to outrage her modesty</th>\n",
       "      <th>Insult to modesty of Women</th>\n",
       "      <th>Cruelty by Husband or his Relatives</th>\n",
       "      <th>Importation of Girls</th>\n",
       "    </tr>\n",
       "  </thead>\n",
       "  <tbody>\n",
       "    <tr>\n",
       "      <th>0</th>\n",
       "      <td>ANDHRA PRADESH</td>\n",
       "      <td>ADILABAD</td>\n",
       "      <td>2011</td>\n",
       "      <td>84</td>\n",
       "      <td>70</td>\n",
       "      <td>20</td>\n",
       "      <td>112</td>\n",
       "      <td>142</td>\n",
       "      <td>429</td>\n",
       "      <td>0</td>\n",
       "    </tr>\n",
       "    <tr>\n",
       "      <th>1</th>\n",
       "      <td>ANDHRA PRADESH</td>\n",
       "      <td>ANANTAPUR</td>\n",
       "      <td>2011</td>\n",
       "      <td>16</td>\n",
       "      <td>83</td>\n",
       "      <td>36</td>\n",
       "      <td>156</td>\n",
       "      <td>16</td>\n",
       "      <td>198</td>\n",
       "      <td>0</td>\n",
       "    </tr>\n",
       "    <tr>\n",
       "      <th>2</th>\n",
       "      <td>ANDHRA PRADESH</td>\n",
       "      <td>CHITTOOR</td>\n",
       "      <td>2011</td>\n",
       "      <td>17</td>\n",
       "      <td>47</td>\n",
       "      <td>25</td>\n",
       "      <td>124</td>\n",
       "      <td>168</td>\n",
       "      <td>421</td>\n",
       "      <td>0</td>\n",
       "    </tr>\n",
       "    <tr>\n",
       "      <th>3</th>\n",
       "      <td>ANDHRA PRADESH</td>\n",
       "      <td>CUDDAPAH</td>\n",
       "      <td>2011</td>\n",
       "      <td>41</td>\n",
       "      <td>65</td>\n",
       "      <td>15</td>\n",
       "      <td>144</td>\n",
       "      <td>17</td>\n",
       "      <td>122</td>\n",
       "      <td>0</td>\n",
       "    </tr>\n",
       "    <tr>\n",
       "      <th>4</th>\n",
       "      <td>ANDHRA PRADESH</td>\n",
       "      <td>CYBERABAD</td>\n",
       "      <td>2011</td>\n",
       "      <td>89</td>\n",
       "      <td>90</td>\n",
       "      <td>51</td>\n",
       "      <td>158</td>\n",
       "      <td>234</td>\n",
       "      <td>1411</td>\n",
       "      <td>0</td>\n",
       "    </tr>\n",
       "  </tbody>\n",
       "</table>\n",
       "</div>"
      ],
      "text/plain": [
       "         STATE/UT   DISTRICT  Year  Rape  Kidnapping and Abduction  \\\n",
       "0  ANDHRA PRADESH   ADILABAD  2011    84                        70   \n",
       "1  ANDHRA PRADESH  ANANTAPUR  2011    16                        83   \n",
       "2  ANDHRA PRADESH   CHITTOOR  2011    17                        47   \n",
       "3  ANDHRA PRADESH   CUDDAPAH  2011    41                        65   \n",
       "4  ANDHRA PRADESH  CYBERABAD  2011    89                        90   \n",
       "\n",
       "   Dowry Deaths  Assault on women with intent to outrage her modesty  \\\n",
       "0            20                                                112     \n",
       "1            36                                                156     \n",
       "2            25                                                124     \n",
       "3            15                                                144     \n",
       "4            51                                                158     \n",
       "\n",
       "   Insult to modesty of Women  Cruelty by Husband or his Relatives  \\\n",
       "0                         142                                  429   \n",
       "1                          16                                  198   \n",
       "2                         168                                  421   \n",
       "3                          17                                  122   \n",
       "4                         234                                 1411   \n",
       "\n",
       "   Importation of Girls  \n",
       "0                     0  \n",
       "1                     0  \n",
       "2                     0  \n",
       "3                     0  \n",
       "4                     0  "
      ]
     },
     "execution_count": 2,
     "metadata": {},
     "output_type": "execute_result"
    }
   ],
   "source": [
    "df=pd.read_csv(\"data.csv\")\n",
    "df.head()"
   ]
  },
  {
   "cell_type": "markdown",
   "metadata": {
    "id": "RNPQQnz5BGjA"
   },
   "source": [
    "## Data Cleaning and Preprocessing"
   ]
  },
  {
   "cell_type": "code",
   "execution_count": 3,
   "metadata": {
    "colab": {
     "background_save": true
    },
    "id": "CrOJ4FzMA9PR"
   },
   "outputs": [],
   "source": [
    "# Convert all state and district names to uppercase\n",
    "df.DISTRICT=df.DISTRICT.apply(lambda x: x.upper()) "
   ]
  },
  {
   "cell_type": "code",
   "execution_count": 4,
   "metadata": {
    "colab": {
     "background_save": true,
     "base_uri": "https://localhost:8080/",
     "height": 270
    },
    "id": "nFyPJG8IBE8b"
   },
   "outputs": [
    {
     "data": {
      "text/html": [
       "<div>\n",
       "<style scoped>\n",
       "    .dataframe tbody tr th:only-of-type {\n",
       "        vertical-align: middle;\n",
       "    }\n",
       "\n",
       "    .dataframe tbody tr th {\n",
       "        vertical-align: top;\n",
       "    }\n",
       "\n",
       "    .dataframe thead th {\n",
       "        text-align: right;\n",
       "    }\n",
       "</style>\n",
       "<table border=\"1\" class=\"dataframe\">\n",
       "  <thead>\n",
       "    <tr style=\"text-align: right;\">\n",
       "      <th></th>\n",
       "      <th>STATE/UT</th>\n",
       "      <th>DISTRICT</th>\n",
       "      <th>Year</th>\n",
       "      <th>Rape</th>\n",
       "      <th>Kidnapping and Abduction</th>\n",
       "      <th>Dowry Deaths</th>\n",
       "      <th>Assault on women with intent to outrage her modesty</th>\n",
       "      <th>Insult to modesty of Women</th>\n",
       "      <th>Cruelty by Husband or his Relatives</th>\n",
       "      <th>Importation of Girls</th>\n",
       "    </tr>\n",
       "  </thead>\n",
       "  <tbody>\n",
       "    <tr>\n",
       "      <th>3257</th>\n",
       "      <td>LAKSHADWEEP</td>\n",
       "      <td>LAKSHADWEEP</td>\n",
       "      <td>2014</td>\n",
       "      <td>1</td>\n",
       "      <td>0</td>\n",
       "      <td>0</td>\n",
       "      <td>1</td>\n",
       "      <td>2</td>\n",
       "      <td>0</td>\n",
       "      <td>0</td>\n",
       "    </tr>\n",
       "    <tr>\n",
       "      <th>3258</th>\n",
       "      <td>LAKSHADWEEP</td>\n",
       "      <td>TOTAL DISTRICT(S)</td>\n",
       "      <td>2014</td>\n",
       "      <td>1</td>\n",
       "      <td>0</td>\n",
       "      <td>0</td>\n",
       "      <td>1</td>\n",
       "      <td>2</td>\n",
       "      <td>0</td>\n",
       "      <td>0</td>\n",
       "    </tr>\n",
       "    <tr>\n",
       "      <th>3259</th>\n",
       "      <td>PUDUCHERRY</td>\n",
       "      <td>KARAIKAL</td>\n",
       "      <td>2014</td>\n",
       "      <td>3</td>\n",
       "      <td>1</td>\n",
       "      <td>0</td>\n",
       "      <td>12</td>\n",
       "      <td>1</td>\n",
       "      <td>1</td>\n",
       "      <td>0</td>\n",
       "    </tr>\n",
       "    <tr>\n",
       "      <th>3260</th>\n",
       "      <td>PUDUCHERRY</td>\n",
       "      <td>PUDUCHERRY</td>\n",
       "      <td>2014</td>\n",
       "      <td>7</td>\n",
       "      <td>6</td>\n",
       "      <td>1</td>\n",
       "      <td>20</td>\n",
       "      <td>7</td>\n",
       "      <td>3</td>\n",
       "      <td>0</td>\n",
       "    </tr>\n",
       "    <tr>\n",
       "      <th>3261</th>\n",
       "      <td>PUDUCHERRY</td>\n",
       "      <td>TOTAL DISTRICT(S)</td>\n",
       "      <td>2014</td>\n",
       "      <td>10</td>\n",
       "      <td>7</td>\n",
       "      <td>1</td>\n",
       "      <td>32</td>\n",
       "      <td>8</td>\n",
       "      <td>4</td>\n",
       "      <td>0</td>\n",
       "    </tr>\n",
       "  </tbody>\n",
       "</table>\n",
       "</div>"
      ],
      "text/plain": [
       "         STATE/UT           DISTRICT  Year  Rape  Kidnapping and Abduction  \\\n",
       "3257  LAKSHADWEEP        LAKSHADWEEP  2014     1                         0   \n",
       "3258  LAKSHADWEEP  TOTAL DISTRICT(S)  2014     1                         0   \n",
       "3259   PUDUCHERRY           KARAIKAL  2014     3                         1   \n",
       "3260   PUDUCHERRY         PUDUCHERRY  2014     7                         6   \n",
       "3261   PUDUCHERRY  TOTAL DISTRICT(S)  2014    10                         7   \n",
       "\n",
       "      Dowry Deaths  Assault on women with intent to outrage her modesty  \\\n",
       "3257             0                                                  1     \n",
       "3258             0                                                  1     \n",
       "3259             0                                                 12     \n",
       "3260             1                                                 20     \n",
       "3261             1                                                 32     \n",
       "\n",
       "      Insult to modesty of Women  Cruelty by Husband or his Relatives  \\\n",
       "3257                           2                                    0   \n",
       "3258                           2                                    0   \n",
       "3259                           1                                    1   \n",
       "3260                           7                                    3   \n",
       "3261                           8                                    4   \n",
       "\n",
       "      Importation of Girls  \n",
       "3257                     0  \n",
       "3258                     0  \n",
       "3259                     0  \n",
       "3260                     0  \n",
       "3261                     0  "
      ]
     },
     "execution_count": 4,
     "metadata": {},
     "output_type": "execute_result"
    }
   ],
   "source": [
    "df['STATE/UT']=df['STATE/UT'].apply(lambda x: x.upper())\n",
    "df.tail()"
   ]
  },
  {
   "cell_type": "code",
   "execution_count": 5,
   "metadata": {
    "colab": {
     "background_save": true
    },
    "id": "0cUj3UicBJ_K"
   },
   "outputs": [],
   "source": [
    "df.DISTRICT=df.DISTRICT.replace(\"TOTAL DISTRICT(S)\",\"TOTAL\")\n",
    "df.DISTRICT=df.DISTRICT.replace(\"ZZ TOTAL\",\"TOTAL\")"
   ]
  },
  {
   "cell_type": "code",
   "execution_count": 6,
   "metadata": {
    "colab": {
     "background_save": true,
     "base_uri": "https://localhost:8080/"
    },
    "id": "foKo3AZoBZZw"
   },
   "outputs": [
    {
     "data": {
      "text/plain": [
       "24 PARGANAS NORTH    3\n",
       "24 PARGANAS SOUTH    3\n",
       "ADILABAD             4\n",
       "AGAR                 2\n",
       "AGRA                 4\n",
       "                    ..\n",
       "WOKHA                4\n",
       "YADGIRI              4\n",
       "YAMUNANAGAR          4\n",
       "YAVATMAL             4\n",
       "ZUNHEBOTO            4\n",
       "Name: DISTRICT, Length: 919, dtype: int64"
      ]
     },
     "execution_count": 6,
     "metadata": {},
     "output_type": "execute_result"
    }
   ],
   "source": [
    "df.DISTRICT.value_counts().sort_index()"
   ]
  },
  {
   "cell_type": "code",
   "execution_count": 7,
   "metadata": {
    "colab": {
     "background_save": true
    },
    "id": "gC2BigUiBh6_"
   },
   "outputs": [],
   "source": [
    "df.DISTRICT=df.DISTRICT.replace(\"AMBALA (RURAL)\",\"AMBALA RURAL\")\n",
    "df.DISTRICT=df.DISTRICT.replace(\"AMBALA (URBAN)\",\"AMBALA URBAN\")\n",
    "df.DISTRICT=df.DISTRICT.replace(\"BEMETRA\",\"BEMETARA\")\n",
    "df.DISTRICT=df.DISTRICT.replace(\"BHOPAL RLY.\",\"BHOPAL RAILWAY\")\n",
    "df.DISTRICT=df.DISTRICT.replace(\"C. I. D.\",\"CID\")\n",
    "df.DISTRICT=df.DISTRICT.replace(\"C.I.D\",\"CID\")\n",
    "df.DISTRICT=df.DISTRICT.replace(\"C.I.D.\",\"CID\")\n",
    "df.DISTRICT=df.DISTRICT.replace(\"C. I. D. CRIME\",\"CID CRIME\")\n",
    "df.DISTRICT=df.DISTRICT.replace(\"CHENNAI RLY.\",\"CHENNAI RAILWAY\")\n",
    "df.DISTRICT=df.DISTRICT.replace(\"D&N HAVELI\",\"D AND N HAVELI\")\n",
    "df.DISTRICT=df.DISTRICT.replace(\"VIJAYAWADA RLY.\",\"VIJAYAWADA RAILWAY\")\n",
    "df.DISTRICT=df.DISTRICT.replace(\"UTTARA KANNADA\",\"UTTAR KANNADA\")\n",
    "df.DISTRICT=df.DISTRICT.replace(\"UMARIYA\",\"UMARIA\")\n",
    "df.DISTRICT=df.DISTRICT.replace(\"TUMKUR\",\"TUMAKURU\")\n",
    "df.DISTRICT=df.DISTRICT.replace(\"THOOTHUGUDI\",\"THOOTHUKUDI\")\n",
    "df.DISTRICT=df.DISTRICT.replace(\"SILIGURI_PC\",\"SILIGURI PC\")\n",
    "df.DISTRICT=df.DISTRICT.replace(\"SILIGURI G. R. P.\",\"SILIGURI G.R.P.\")\n",
    "df.DISTRICT=df.DISTRICT.replace(\"SECUNDERABAD RLY.\",\"SECUNDERABAD RAILWAY\")\n",
    "df.DISTRICT=df.DISTRICT.replace(\"SAS NGR\",\"SAS NAGAR\")\n",
    "df.DISTRICT=df.DISTRICT.replace(\"SEALDAH G. R. P.\",\"SEALDAH G.R.P.\")\n",
    "df.DISTRICT=df.DISTRICT.replace(\"RAMANAGARA\",\"RAMANAGAR\")\n",
    "df.DISTRICT=df.DISTRICT.replace(\"TRICHY RLY.\",\"RAILWAY TRICHY\")\n",
    "df.DISTRICT=df.DISTRICT.replace(\"CHENNAI RLY.\",\"RAILWAY CHENNAI\")\n",
    "df.DISTRICT=df.DISTRICT.replace(\"CHENNAI RAILWAY\",\"RAILWAY CHENNAI\")\n",
    "df.DISTRICT=df.DISTRICT.replace(\"RAILWAY\",\"RAILWAYS\")\n",
    "df.DISTRICT=df.DISTRICT.replace(\"PUNE RLY.\",\"PUNE RAILWAY\")\n",
    "df.DISTRICT=df.DISTRICT.replace(\"PURAB MEDINIPUR\",\"PURAB MIDNAPUR\")\n",
    "df.DISTRICT=df.DISTRICT.replace(\"PATNA RLY.\",\"PATNA RAILWAY\")\n",
    "df.DISTRICT=df.DISTRICT.replace(\"PASCHIM MEDINIPUR\",\"PASCHIM MIDNAPUR\")\n",
    "df.DISTRICT=df.DISTRICT.replace(\"NAGPUR RLY.\",\"NAGPUR RAILWAY\")\n",
    "df.DISTRICT=df.DISTRICT.replace(\"MUZAFFARPUR RLY.\",\"MUZAFFARPUR RAILWAY\")\n",
    "df.DISTRICT=df.DISTRICT.replace(\"MUNGALI\",\"MUNGELI\")\n",
    "df.DISTRICT=df.DISTRICT.replace(\"MUMBAI RLY.\",\"MUMBAI RAILWAY\")\n",
    "df.DISTRICT=df.DISTRICT.replace(\"MANGALURU CITY\",\"MANGALORE CITY\")\n",
    "df.DISTRICT=df.DISTRICT.replace(\"MALKANGIRI\",\"MALKANGIR\")\n",
    "df.DISTRICT=df.DISTRICT.replace(\"MAHENDERGARH\",\"MAHENDRAGARH\")\n",
    "df.DISTRICT=df.DISTRICT.replace(\"MAHABOOBNAGAR\",\"MAHABOOB NAGAR\")\n",
    "df.DISTRICT=df.DISTRICT.replace(\"LAHAUL & SPITI\",\"LAHAUL-SPITI\")\n",
    "df.DISTRICT=df.DISTRICT.replace(\"KHASI HILLS SOUTH W.\",\"KHASI HILLS SOUTH WEST\")\n",
    "df.DISTRICT=df.DISTRICT.replace(\"KHARGON\",\"KHARGONE\")\n",
    "df.DISTRICT=df.DISTRICT.replace(\"KHARAGPUR G. R. P.\",\"KHARAGPUR G.R.P.\")\n",
    "df.DISTRICT=df.DISTRICT.replace(\"KATIHAR RLY.\",\"KATIHAR RAILWAY\")\n",
    "df.DISTRICT=df.DISTRICT.replace(\"JAMSHEDPUR RLY.\",\"JAMSHEDPUR RAILWAY\")\n",
    "df.DISTRICT=df.DISTRICT.replace(\"JAMALPUR RLY.\",\"JAMALPUR RAILWAY\")\n",
    "df.DISTRICT=df.DISTRICT.replace(\"JABALPUR RLY.\",\"JABALPUR RAILWAY\")\n",
    "df.DISTRICT=df.DISTRICT.replace(\"INDORE RLY.\",\"INDORE RAILWAY\")\n",
    "df.DISTRICT=df.DISTRICT.replace(\"HOWRAH G. R. P.\",\"HOWRAH G.R.P.\")\n",
    "df.DISTRICT=df.DISTRICT.replace(\"GUNTAKAL RLY.\",\"GUNTAKAL RAILWAY\")\n",
    "df.DISTRICT=df.DISTRICT.replace(\"GARO HILLS SOUTH W.\",\"GARO HILLS SOUTH WEST\")\n",
    "df.DISTRICT=df.DISTRICT.replace(\"G. R. P.\",\"G.R.P.\")\n",
    "df.DISTRICT=df.DISTRICT.replace(\"G.R.P\",\"G.R.P.\")\n",
    "df.DISTRICT=df.DISTRICT.replace(\"FEROZPUR\",\"FEROZEPUR\")\n",
    "df.DISTRICT=df.DISTRICT.replace(\"DHANBAD RLY.\",\"DHANBAD RAILWAY\")\n",
    "df.DISTRICT=df.DISTRICT.replace(\"DATIYA\",\"DATIA\")\n",
    "df.DISTRICT=df.DISTRICT.replace(\"DAKSHINA KANNADA\",\"DAKSHIN KANNADA\")\n",
    "df.DISTRICT=df.DISTRICT.replace(\"CHIKKAMAGALURU\",\"CHICKMAGALUR\")\n",
    "df.DISTRICT=df.DISTRICT.replace(\"DATIYA\",\"DATIA\")\n",
    "df.DISTRICT=df.DISTRICT.replace(\"AMBALA (RURAL)\",\"AMBALA RURAL\")\n",
    "df.DISTRICT=df.DISTRICT.replace(\"AMBALA (URBAN)\",\"AMBALA URBAN\")\n",
    "df.DISTRICT=df.DISTRICT.replace(\"BEMETRA\",\"BEMETARA\")\n",
    "df.DISTRICT=df.DISTRICT.replace(\"BHOPAL RLY.\",\"BHOPAL RAILWAY\")\n",
    "df.DISTRICT=df.DISTRICT.replace(\"C. I. D.\",\"CID\")\n",
    "df.DISTRICT=df.DISTRICT.replace(\"C.I.D\",\"CID\")\n",
    "df.DISTRICT=df.DISTRICT.replace(\"C.I.D.\",\"CID\")\n",
    "df.DISTRICT=df.DISTRICT.replace(\"C. I. D. CRIME\",\"CID CRIME\")\n",
    "df.DISTRICT=df.DISTRICT.replace(\"CHENNAI RLY.\",\"CHENNAI RAILWAY\")\n",
    "df.DISTRICT=df.DISTRICT.replace(\"D&N HAVELI\",\"D AND N HAVELI\")"
   ]
  },
  {
   "cell_type": "code",
   "execution_count": 8,
   "metadata": {
    "colab": {
     "background_save": true,
     "base_uri": "https://localhost:8080/"
    },
    "id": "QYtQmgbHB8zD"
   },
   "outputs": [
    {
     "data": {
      "text/plain": [
       "866"
      ]
     },
     "execution_count": 8,
     "metadata": {},
     "output_type": "execute_result"
    }
   ],
   "source": [
    "df.DISTRICT.nunique()"
   ]
  },
  {
   "cell_type": "code",
   "execution_count": 9,
   "metadata": {
    "colab": {
     "background_save": true,
     "base_uri": "https://localhost:8080/"
    },
    "id": "ixQXTAb0Bdh-"
   },
   "outputs": [
    {
     "data": {
      "text/plain": [
       "A & N ISLANDS         11\n",
       "A&N ISLANDS            4\n",
       "ANDHRA PRADESH       123\n",
       "ARUNACHAL PRADESH     75\n",
       "ASSAM                126\n",
       "BIHAR                182\n",
       "CHANDIGARH             8\n",
       "CHHATTISGARH         110\n",
       "D & N HAVELI           4\n",
       "D&N HAVELI             4\n",
       "DAMAN & DIU           12\n",
       "DELHI                 36\n",
       "DELHI UT              39\n",
       "GOA                   13\n",
       "GUJARAT              147\n",
       "HARYANA               97\n",
       "HIMACHAL PRADESH      64\n",
       "JAMMU & KASHMIR      123\n",
       "JHARKHAND            108\n",
       "KARNATAKA            145\n",
       "KERALA                85\n",
       "LAKSHADWEEP            8\n",
       "MADHYA PRADESH       219\n",
       "MAHARASHTRA          185\n",
       "MANIPUR               44\n",
       "MEGHALAYA             40\n",
       "MIZORAM               39\n",
       "NAGALAND              48\n",
       "ODISHA               148\n",
       "PUDUCHERRY            12\n",
       "PUNJAB               116\n",
       "RAJASTHAN            172\n",
       "SIKKIM                21\n",
       "TAMIL NADU           163\n",
       "TELANGANA             14\n",
       "TRIPURA               36\n",
       "UTTAR PRADESH        308\n",
       "UTTARAKHAND           56\n",
       "WEST BENGAL          117\n",
       "Name: STATE/UT, dtype: int64"
      ]
     },
     "execution_count": 9,
     "metadata": {},
     "output_type": "execute_result"
    }
   ],
   "source": [
    "df['STATE/UT'].value_counts().sort_index()"
   ]
  },
  {
   "cell_type": "code",
   "execution_count": 10,
   "metadata": {
    "colab": {
     "background_save": true
    },
    "id": "lfAJMtGkBhEv"
   },
   "outputs": [],
   "source": [
    "df['STATE/UT']=df['STATE/UT'].replace(\"D & N HAVELI\",\"D&N HAVELI\")\n",
    "df['STATE/UT']=df['STATE/UT'].replace(\"A & N ISLANDS\",\"A&N ISLANDS\")\n"
   ]
  },
  {
   "cell_type": "code",
   "execution_count": 11,
   "metadata": {
    "colab": {
     "background_save": true,
     "base_uri": "https://localhost:8080/"
    },
    "id": "hfiU2f34BwsA"
   },
   "outputs": [
    {
     "data": {
      "text/plain": [
       "37"
      ]
     },
     "execution_count": 11,
     "metadata": {},
     "output_type": "execute_result"
    }
   ],
   "source": [
    "df['STATE/UT'].nunique()"
   ]
  },
  {
   "cell_type": "markdown",
   "metadata": {
    "id": "etuEH3FFCpxP"
   },
   "source": [
    "## Task 1  \n",
    "Finding safest state/UT and relative crime rates"
   ]
  },
  {
   "cell_type": "code",
   "execution_count": 12,
   "metadata": {
    "colab": {
     "background_save": true
    },
    "id": "8Z3Wd6RlCpUR"
   },
   "outputs": [],
   "source": [
    "df['Total'] = df.loc[:,['Rape' , 'Kidnapping and Abduction', 'Dowry Deaths', 'Assault on women with intent to outrage her modesty','Insult to modesty of Women',\n",
    "                       'Cruelty by Husband or his Relatives','Importation of Girls']].sum(axis = 1)"
   ]
  },
  {
   "cell_type": "code",
   "execution_count": 13,
   "metadata": {
    "colab": {
     "background_save": true,
     "base_uri": "https://localhost:8080/",
     "height": 458
    },
    "id": "l-7BSBb4C3EC"
   },
   "outputs": [
    {
     "data": {
      "text/html": [
       "<div>\n",
       "<style scoped>\n",
       "    .dataframe tbody tr th:only-of-type {\n",
       "        vertical-align: middle;\n",
       "    }\n",
       "\n",
       "    .dataframe tbody tr th {\n",
       "        vertical-align: top;\n",
       "    }\n",
       "\n",
       "    .dataframe thead th {\n",
       "        text-align: right;\n",
       "    }\n",
       "</style>\n",
       "<table border=\"1\" class=\"dataframe\">\n",
       "  <thead>\n",
       "    <tr style=\"text-align: right;\">\n",
       "      <th></th>\n",
       "      <th>STATE/UT</th>\n",
       "      <th>DISTRICT</th>\n",
       "      <th>Year</th>\n",
       "      <th>Rape</th>\n",
       "      <th>Kidnapping and Abduction</th>\n",
       "      <th>Dowry Deaths</th>\n",
       "      <th>Assault on women with intent to outrage her modesty</th>\n",
       "      <th>Insult to modesty of Women</th>\n",
       "      <th>Cruelty by Husband or his Relatives</th>\n",
       "      <th>Importation of Girls</th>\n",
       "      <th>Total</th>\n",
       "    </tr>\n",
       "  </thead>\n",
       "  <tbody>\n",
       "    <tr>\n",
       "      <th>33</th>\n",
       "      <td>ANDHRA PRADESH</td>\n",
       "      <td>TOTAL</td>\n",
       "      <td>2011</td>\n",
       "      <td>1442</td>\n",
       "      <td>1612</td>\n",
       "      <td>599</td>\n",
       "      <td>4849</td>\n",
       "      <td>3658</td>\n",
       "      <td>13376</td>\n",
       "      <td>0</td>\n",
       "      <td>25536</td>\n",
       "    </tr>\n",
       "    <tr>\n",
       "      <th>51</th>\n",
       "      <td>ARUNACHAL PRADESH</td>\n",
       "      <td>TOTAL</td>\n",
       "      <td>2011</td>\n",
       "      <td>42</td>\n",
       "      <td>60</td>\n",
       "      <td>0</td>\n",
       "      <td>51</td>\n",
       "      <td>0</td>\n",
       "      <td>18</td>\n",
       "      <td>0</td>\n",
       "      <td>171</td>\n",
       "    </tr>\n",
       "    <tr>\n",
       "      <th>82</th>\n",
       "      <td>ASSAM</td>\n",
       "      <td>TOTAL</td>\n",
       "      <td>2011</td>\n",
       "      <td>1700</td>\n",
       "      <td>3192</td>\n",
       "      <td>121</td>\n",
       "      <td>1193</td>\n",
       "      <td>8</td>\n",
       "      <td>5246</td>\n",
       "      <td>2</td>\n",
       "      <td>11462</td>\n",
       "    </tr>\n",
       "    <tr>\n",
       "      <th>127</th>\n",
       "      <td>BIHAR</td>\n",
       "      <td>TOTAL</td>\n",
       "      <td>2011</td>\n",
       "      <td>934</td>\n",
       "      <td>3050</td>\n",
       "      <td>1413</td>\n",
       "      <td>790</td>\n",
       "      <td>11</td>\n",
       "      <td>2607</td>\n",
       "      <td>10</td>\n",
       "      <td>8815</td>\n",
       "    </tr>\n",
       "    <tr>\n",
       "      <th>150</th>\n",
       "      <td>CHHATTISGARH</td>\n",
       "      <td>TOTAL</td>\n",
       "      <td>2011</td>\n",
       "      <td>1053</td>\n",
       "      <td>365</td>\n",
       "      <td>104</td>\n",
       "      <td>1654</td>\n",
       "      <td>174</td>\n",
       "      <td>834</td>\n",
       "      <td>2</td>\n",
       "      <td>4186</td>\n",
       "    </tr>\n",
       "    <tr>\n",
       "      <th>153</th>\n",
       "      <td>GOA</td>\n",
       "      <td>TOTAL</td>\n",
       "      <td>2011</td>\n",
       "      <td>29</td>\n",
       "      <td>17</td>\n",
       "      <td>1</td>\n",
       "      <td>29</td>\n",
       "      <td>12</td>\n",
       "      <td>18</td>\n",
       "      <td>0</td>\n",
       "      <td>106</td>\n",
       "    </tr>\n",
       "    <tr>\n",
       "      <th>188</th>\n",
       "      <td>GUJARAT</td>\n",
       "      <td>TOTAL</td>\n",
       "      <td>2011</td>\n",
       "      <td>439</td>\n",
       "      <td>1442</td>\n",
       "      <td>30</td>\n",
       "      <td>685</td>\n",
       "      <td>93</td>\n",
       "      <td>6052</td>\n",
       "      <td>0</td>\n",
       "      <td>8741</td>\n",
       "    </tr>\n",
       "    <tr>\n",
       "      <th>211</th>\n",
       "      <td>HARYANA</td>\n",
       "      <td>TOTAL</td>\n",
       "      <td>2011</td>\n",
       "      <td>733</td>\n",
       "      <td>733</td>\n",
       "      <td>255</td>\n",
       "      <td>474</td>\n",
       "      <td>490</td>\n",
       "      <td>2740</td>\n",
       "      <td>0</td>\n",
       "      <td>5425</td>\n",
       "    </tr>\n",
       "    <tr>\n",
       "      <th>227</th>\n",
       "      <td>HIMACHAL PRADESH</td>\n",
       "      <td>TOTAL</td>\n",
       "      <td>2011</td>\n",
       "      <td>168</td>\n",
       "      <td>191</td>\n",
       "      <td>4</td>\n",
       "      <td>331</td>\n",
       "      <td>62</td>\n",
       "      <td>239</td>\n",
       "      <td>0</td>\n",
       "      <td>995</td>\n",
       "    </tr>\n",
       "    <tr>\n",
       "      <th>257</th>\n",
       "      <td>JAMMU &amp; KASHMIR</td>\n",
       "      <td>TOTAL</td>\n",
       "      <td>2011</td>\n",
       "      <td>277</td>\n",
       "      <td>1023</td>\n",
       "      <td>11</td>\n",
       "      <td>1194</td>\n",
       "      <td>350</td>\n",
       "      <td>286</td>\n",
       "      <td>0</td>\n",
       "      <td>3141</td>\n",
       "    </tr>\n",
       "  </tbody>\n",
       "</table>\n",
       "</div>"
      ],
      "text/plain": [
       "              STATE/UT DISTRICT  Year  Rape  Kidnapping and Abduction  \\\n",
       "33      ANDHRA PRADESH    TOTAL  2011  1442                      1612   \n",
       "51   ARUNACHAL PRADESH    TOTAL  2011    42                        60   \n",
       "82               ASSAM    TOTAL  2011  1700                      3192   \n",
       "127              BIHAR    TOTAL  2011   934                      3050   \n",
       "150       CHHATTISGARH    TOTAL  2011  1053                       365   \n",
       "153                GOA    TOTAL  2011    29                        17   \n",
       "188            GUJARAT    TOTAL  2011   439                      1442   \n",
       "211            HARYANA    TOTAL  2011   733                       733   \n",
       "227   HIMACHAL PRADESH    TOTAL  2011   168                       191   \n",
       "257    JAMMU & KASHMIR    TOTAL  2011   277                      1023   \n",
       "\n",
       "     Dowry Deaths  Assault on women with intent to outrage her modesty  \\\n",
       "33            599                                               4849     \n",
       "51              0                                                 51     \n",
       "82            121                                               1193     \n",
       "127          1413                                                790     \n",
       "150           104                                               1654     \n",
       "153             1                                                 29     \n",
       "188            30                                                685     \n",
       "211           255                                                474     \n",
       "227             4                                                331     \n",
       "257            11                                               1194     \n",
       "\n",
       "     Insult to modesty of Women  Cruelty by Husband or his Relatives  \\\n",
       "33                         3658                                13376   \n",
       "51                            0                                   18   \n",
       "82                            8                                 5246   \n",
       "127                          11                                 2607   \n",
       "150                         174                                  834   \n",
       "153                          12                                   18   \n",
       "188                          93                                 6052   \n",
       "211                         490                                 2740   \n",
       "227                          62                                  239   \n",
       "257                         350                                  286   \n",
       "\n",
       "     Importation of Girls  Total  \n",
       "33                      0  25536  \n",
       "51                      0    171  \n",
       "82                      2  11462  \n",
       "127                    10   8815  \n",
       "150                     2   4186  \n",
       "153                     0    106  \n",
       "188                     0   8741  \n",
       "211                     0   5425  \n",
       "227                     0    995  \n",
       "257                     0   3141  "
      ]
     },
     "execution_count": 13,
     "metadata": {},
     "output_type": "execute_result"
    }
   ],
   "source": [
    "state_crimes = df[df.DISTRICT==\"TOTAL\"]\n",
    "state_crimes.drop(['DISTRICT'], axis=1)\n",
    "state_crimes.head(10)"
   ]
  },
  {
   "cell_type": "code",
   "execution_count": 14,
   "metadata": {
    "colab": {
     "background_save": true,
     "base_uri": "https://localhost:8080/",
     "height": 1000
    },
    "id": "7GCNh0bXC-SZ"
   },
   "outputs": [
    {
     "data": {
      "text/html": [
       "<div>\n",
       "<style scoped>\n",
       "    .dataframe tbody tr th:only-of-type {\n",
       "        vertical-align: middle;\n",
       "    }\n",
       "\n",
       "    .dataframe tbody tr th {\n",
       "        vertical-align: top;\n",
       "    }\n",
       "\n",
       "    .dataframe thead th {\n",
       "        text-align: right;\n",
       "    }\n",
       "</style>\n",
       "<table border=\"1\" class=\"dataframe\">\n",
       "  <thead>\n",
       "    <tr style=\"text-align: right;\">\n",
       "      <th>Year</th>\n",
       "      <th>2011</th>\n",
       "      <th>2012</th>\n",
       "      <th>2013</th>\n",
       "      <th>2014</th>\n",
       "    </tr>\n",
       "    <tr>\n",
       "      <th>STATE/UT</th>\n",
       "      <th></th>\n",
       "      <th></th>\n",
       "      <th></th>\n",
       "      <th></th>\n",
       "    </tr>\n",
       "  </thead>\n",
       "  <tbody>\n",
       "    <tr>\n",
       "      <th>A&amp;N ISLANDS</th>\n",
       "      <td>48.0</td>\n",
       "      <td>47.0</td>\n",
       "      <td>102.0</td>\n",
       "      <td>112.0</td>\n",
       "    </tr>\n",
       "    <tr>\n",
       "      <th>ANDHRA PRADESH</th>\n",
       "      <td>25536.0</td>\n",
       "      <td>25167.0</td>\n",
       "      <td>30438.0</td>\n",
       "      <td>15455.0</td>\n",
       "    </tr>\n",
       "    <tr>\n",
       "      <th>ARUNACHAL PRADESH</th>\n",
       "      <td>171.0</td>\n",
       "      <td>200.0</td>\n",
       "      <td>286.0</td>\n",
       "      <td>341.0</td>\n",
       "    </tr>\n",
       "    <tr>\n",
       "      <th>ASSAM</th>\n",
       "      <td>11462.0</td>\n",
       "      <td>13470.0</td>\n",
       "      <td>17390.0</td>\n",
       "      <td>18790.0</td>\n",
       "    </tr>\n",
       "    <tr>\n",
       "      <th>BIHAR</th>\n",
       "      <td>8815.0</td>\n",
       "      <td>9836.0</td>\n",
       "      <td>11652.0</td>\n",
       "      <td>12553.0</td>\n",
       "    </tr>\n",
       "    <tr>\n",
       "      <th>CHANDIGARH</th>\n",
       "      <td>154.0</td>\n",
       "      <td>241.0</td>\n",
       "      <td>481.0</td>\n",
       "      <td>424.0</td>\n",
       "    </tr>\n",
       "    <tr>\n",
       "      <th>CHHATTISGARH</th>\n",
       "      <td>4186.0</td>\n",
       "      <td>4208.0</td>\n",
       "      <td>6993.0</td>\n",
       "      <td>6122.0</td>\n",
       "    </tr>\n",
       "    <tr>\n",
       "      <th>D&amp;N HAVELI</th>\n",
       "      <td>17.0</td>\n",
       "      <td>14.0</td>\n",
       "      <td>19.0</td>\n",
       "      <td>21.0</td>\n",
       "    </tr>\n",
       "    <tr>\n",
       "      <th>DAMAN &amp; DIU</th>\n",
       "      <td>5.0</td>\n",
       "      <td>8.0</td>\n",
       "      <td>18.0</td>\n",
       "      <td>7.0</td>\n",
       "    </tr>\n",
       "    <tr>\n",
       "      <th>DELHI UT</th>\n",
       "      <td>NaN</td>\n",
       "      <td>NaN</td>\n",
       "      <td>12853.0</td>\n",
       "      <td>15139.0</td>\n",
       "    </tr>\n",
       "    <tr>\n",
       "      <th>GOA</th>\n",
       "      <td>106.0</td>\n",
       "      <td>160.0</td>\n",
       "      <td>412.0</td>\n",
       "      <td>475.0</td>\n",
       "    </tr>\n",
       "    <tr>\n",
       "      <th>GUJARAT</th>\n",
       "      <td>8741.0</td>\n",
       "      <td>9517.0</td>\n",
       "      <td>12123.0</td>\n",
       "      <td>10567.0</td>\n",
       "    </tr>\n",
       "    <tr>\n",
       "      <th>HARYANA</th>\n",
       "      <td>5425.0</td>\n",
       "      <td>5922.0</td>\n",
       "      <td>9013.0</td>\n",
       "      <td>8657.0</td>\n",
       "    </tr>\n",
       "    <tr>\n",
       "      <th>HIMACHAL PRADESH</th>\n",
       "      <td>995.0</td>\n",
       "      <td>906.0</td>\n",
       "      <td>1472.0</td>\n",
       "      <td>1434.0</td>\n",
       "    </tr>\n",
       "    <tr>\n",
       "      <th>JAMMU &amp; KASHMIR</th>\n",
       "      <td>3141.0</td>\n",
       "      <td>3322.0</td>\n",
       "      <td>3505.0</td>\n",
       "      <td>3274.0</td>\n",
       "    </tr>\n",
       "    <tr>\n",
       "      <th>JHARKHAND</th>\n",
       "      <td>2715.0</td>\n",
       "      <td>3458.0</td>\n",
       "      <td>5065.0</td>\n",
       "      <td>4207.0</td>\n",
       "    </tr>\n",
       "    <tr>\n",
       "      <th>KARNATAKA</th>\n",
       "      <td>8031.0</td>\n",
       "      <td>8703.0</td>\n",
       "      <td>9992.0</td>\n",
       "      <td>11552.0</td>\n",
       "    </tr>\n",
       "    <tr>\n",
       "      <th>KERALA</th>\n",
       "      <td>11074.0</td>\n",
       "      <td>10714.0</td>\n",
       "      <td>11013.0</td>\n",
       "      <td>11061.0</td>\n",
       "    </tr>\n",
       "    <tr>\n",
       "      <th>LAKSHADWEEP</th>\n",
       "      <td>0.0</td>\n",
       "      <td>2.0</td>\n",
       "      <td>3.0</td>\n",
       "      <td>4.0</td>\n",
       "    </tr>\n",
       "    <tr>\n",
       "      <th>MADHYA PRADESH</th>\n",
       "      <td>16509.0</td>\n",
       "      <td>16718.0</td>\n",
       "      <td>21967.0</td>\n",
       "      <td>27986.0</td>\n",
       "    </tr>\n",
       "    <tr>\n",
       "      <th>MAHARASHTRA</th>\n",
       "      <td>15293.0</td>\n",
       "      <td>15952.0</td>\n",
       "      <td>24563.0</td>\n",
       "      <td>25447.0</td>\n",
       "    </tr>\n",
       "    <tr>\n",
       "      <th>MANIPUR</th>\n",
       "      <td>247.0</td>\n",
       "      <td>289.0</td>\n",
       "      <td>285.0</td>\n",
       "      <td>336.0</td>\n",
       "    </tr>\n",
       "    <tr>\n",
       "      <th>MEGHALAYA</th>\n",
       "      <td>267.0</td>\n",
       "      <td>248.0</td>\n",
       "      <td>339.0</td>\n",
       "      <td>358.0</td>\n",
       "    </tr>\n",
       "    <tr>\n",
       "      <th>MIZORAM</th>\n",
       "      <td>159.0</td>\n",
       "      <td>199.0</td>\n",
       "      <td>177.0</td>\n",
       "      <td>257.0</td>\n",
       "    </tr>\n",
       "    <tr>\n",
       "      <th>NAGALAND</th>\n",
       "      <td>36.0</td>\n",
       "      <td>47.0</td>\n",
       "      <td>66.0</td>\n",
       "      <td>63.0</td>\n",
       "    </tr>\n",
       "    <tr>\n",
       "      <th>ODISHA</th>\n",
       "      <td>8347.0</td>\n",
       "      <td>10476.0</td>\n",
       "      <td>12130.0</td>\n",
       "      <td>13891.0</td>\n",
       "    </tr>\n",
       "    <tr>\n",
       "      <th>PUDUCHERRY</th>\n",
       "      <td>78.0</td>\n",
       "      <td>46.0</td>\n",
       "      <td>71.0</td>\n",
       "      <td>62.0</td>\n",
       "    </tr>\n",
       "    <tr>\n",
       "      <th>PUNJAB</th>\n",
       "      <td>2588.0</td>\n",
       "      <td>3151.0</td>\n",
       "      <td>4854.0</td>\n",
       "      <td>5076.0</td>\n",
       "    </tr>\n",
       "    <tr>\n",
       "      <th>RAJASTHAN</th>\n",
       "      <td>19701.0</td>\n",
       "      <td>20906.0</td>\n",
       "      <td>27734.0</td>\n",
       "      <td>30510.0</td>\n",
       "    </tr>\n",
       "    <tr>\n",
       "      <th>SIKKIM</th>\n",
       "      <td>54.0</td>\n",
       "      <td>68.0</td>\n",
       "      <td>93.0</td>\n",
       "      <td>101.0</td>\n",
       "    </tr>\n",
       "    <tr>\n",
       "      <th>TAMIL NADU</th>\n",
       "      <td>6315.0</td>\n",
       "      <td>6381.0</td>\n",
       "      <td>6612.0</td>\n",
       "      <td>5486.0</td>\n",
       "    </tr>\n",
       "    <tr>\n",
       "      <th>TELANGANA</th>\n",
       "      <td>NaN</td>\n",
       "      <td>NaN</td>\n",
       "      <td>NaN</td>\n",
       "      <td>12678.0</td>\n",
       "    </tr>\n",
       "    <tr>\n",
       "      <th>TRIPURA</th>\n",
       "      <td>1356.0</td>\n",
       "      <td>1559.0</td>\n",
       "      <td>1627.0</td>\n",
       "      <td>1579.0</td>\n",
       "    </tr>\n",
       "    <tr>\n",
       "      <th>UTTAR PRADESH</th>\n",
       "      <td>22468.0</td>\n",
       "      <td>23033.0</td>\n",
       "      <td>31231.0</td>\n",
       "      <td>35667.0</td>\n",
       "    </tr>\n",
       "    <tr>\n",
       "      <th>UTTARAKHAND</th>\n",
       "      <td>990.0</td>\n",
       "      <td>1055.0</td>\n",
       "      <td>1706.0</td>\n",
       "      <td>1231.0</td>\n",
       "    </tr>\n",
       "    <tr>\n",
       "      <th>WEST BENGAL</th>\n",
       "      <td>28919.0</td>\n",
       "      <td>30585.0</td>\n",
       "      <td>29611.0</td>\n",
       "      <td>36438.0</td>\n",
       "    </tr>\n",
       "  </tbody>\n",
       "</table>\n",
       "</div>"
      ],
      "text/plain": [
       "Year                  2011     2012     2013     2014\n",
       "STATE/UT                                             \n",
       "A&N ISLANDS           48.0     47.0    102.0    112.0\n",
       "ANDHRA PRADESH     25536.0  25167.0  30438.0  15455.0\n",
       "ARUNACHAL PRADESH    171.0    200.0    286.0    341.0\n",
       "ASSAM              11462.0  13470.0  17390.0  18790.0\n",
       "BIHAR               8815.0   9836.0  11652.0  12553.0\n",
       "CHANDIGARH           154.0    241.0    481.0    424.0\n",
       "CHHATTISGARH        4186.0   4208.0   6993.0   6122.0\n",
       "D&N HAVELI            17.0     14.0     19.0     21.0\n",
       "DAMAN & DIU            5.0      8.0     18.0      7.0\n",
       "DELHI UT               NaN      NaN  12853.0  15139.0\n",
       "GOA                  106.0    160.0    412.0    475.0\n",
       "GUJARAT             8741.0   9517.0  12123.0  10567.0\n",
       "HARYANA             5425.0   5922.0   9013.0   8657.0\n",
       "HIMACHAL PRADESH     995.0    906.0   1472.0   1434.0\n",
       "JAMMU & KASHMIR     3141.0   3322.0   3505.0   3274.0\n",
       "JHARKHAND           2715.0   3458.0   5065.0   4207.0\n",
       "KARNATAKA           8031.0   8703.0   9992.0  11552.0\n",
       "KERALA             11074.0  10714.0  11013.0  11061.0\n",
       "LAKSHADWEEP            0.0      2.0      3.0      4.0\n",
       "MADHYA PRADESH     16509.0  16718.0  21967.0  27986.0\n",
       "MAHARASHTRA        15293.0  15952.0  24563.0  25447.0\n",
       "MANIPUR              247.0    289.0    285.0    336.0\n",
       "MEGHALAYA            267.0    248.0    339.0    358.0\n",
       "MIZORAM              159.0    199.0    177.0    257.0\n",
       "NAGALAND              36.0     47.0     66.0     63.0\n",
       "ODISHA              8347.0  10476.0  12130.0  13891.0\n",
       "PUDUCHERRY            78.0     46.0     71.0     62.0\n",
       "PUNJAB              2588.0   3151.0   4854.0   5076.0\n",
       "RAJASTHAN          19701.0  20906.0  27734.0  30510.0\n",
       "SIKKIM                54.0     68.0     93.0    101.0\n",
       "TAMIL NADU          6315.0   6381.0   6612.0   5486.0\n",
       "TELANGANA              NaN      NaN      NaN  12678.0\n",
       "TRIPURA             1356.0   1559.0   1627.0   1579.0\n",
       "UTTAR PRADESH      22468.0  23033.0  31231.0  35667.0\n",
       "UTTARAKHAND          990.0   1055.0   1706.0   1231.0\n",
       "WEST BENGAL        28919.0  30585.0  29611.0  36438.0"
      ]
     },
     "execution_count": 14,
     "metadata": {},
     "output_type": "execute_result"
    }
   ],
   "source": [
    "table = pd.pivot(state_crimes, values ='Total',columns ='Year', index='STATE/UT')\n",
    "table"
   ]
  },
  {
   "cell_type": "markdown",
   "metadata": {
    "id": "_ZcbGxN6NtfU"
   },
   "source": [
    "### Graphs"
   ]
  },
  {
   "cell_type": "code",
   "execution_count": 15,
   "metadata": {
    "colab": {
     "background_save": true,
     "base_uri": "https://localhost:8080/",
     "height": 516
    },
    "id": "13jURW7CDBl4"
   },
   "outputs": [
    {
     "data": {
      "text/plain": [
       "<AxesSubplot:title={'center':'Crime in 2011'}, ylabel='STATE/UT'>"
      ]
     },
     "execution_count": 15,
     "metadata": {},
     "output_type": "execute_result"
    },
    {
     "data": {
      "image/png": "[encoded data removed]",
      "text/plain": [
       "<Figure size 864x576 with 1 Axes>"
      ]
     },
     "metadata": {
      "needs_background": "light"
     },
     "output_type": "display_data"
    }
   ],
   "source": [
    "# Number of crimee state wise in 2011\n",
    "fig = plt.subplots(figsize =(12, 8))\n",
    "table[table.columns[0]].sort_values().plot(kind=\"barh\", title = \"Crime in 2011\")"
   ]
  },
  {
   "cell_type": "code",
   "execution_count": 16,
   "metadata": {
    "colab": {
     "background_save": true,
     "base_uri": "https://localhost:8080/",
     "height": 516
    },
    "id": "DHq0dWHcDQyg"
   },
   "outputs": [
    {
     "data": {
      "text/plain": [
       "<AxesSubplot:title={'center':'Crime in 2012'}, ylabel='STATE/UT'>"
      ]
     },
     "execution_count": 16,
     "metadata": {},
     "output_type": "execute_result"
    },
    {
     "data": {
      "image/png": "[encoded data removed]",
      "text/plain": [
       "<Figure size 864x576 with 1 Axes>"
      ]
     },
     "metadata": {
      "needs_background": "light"
     },
     "output_type": "display_data"
    }
   ],
   "source": [
    "# Number of crimes state wise in 2012\n",
    "fig = plt.subplots(figsize =(12, 8))\n",
    "table[table.columns[1]].sort_values().plot(kind=\"barh\", title = \"Crime in 2012\")"
   ]
  },
  {
   "cell_type": "code",
   "execution_count": 17,
   "metadata": {
    "colab": {
     "background_save": true,
     "base_uri": "https://localhost:8080/",
     "height": 516
    },
    "id": "0MPNzmBlDi_5"
   },
   "outputs": [
    {
     "data": {
      "text/plain": [
       "<AxesSubplot:title={'center':'Crime in 2013'}, ylabel='STATE/UT'>"
      ]
     },
     "execution_count": 17,
     "metadata": {},
     "output_type": "execute_result"
    },
    {
     "data": {
      "image/png": "[encoded data removed]",
      "text/plain": [
       "<Figure size 864x576 with 1 Axes>"
      ]
     },
     "metadata": {
      "needs_background": "light"
     },
     "output_type": "display_data"
    }
   ],
   "source": [
    "# Number of crimes state wise in 2013\n",
    "fig = plt.subplots(figsize =(12, 8))\n",
    "table[table.columns[2]].sort_values().plot(kind=\"barh\", title = \"Crime in 2013\")"
   ]
  },
  {
   "cell_type": "code",
   "execution_count": 18,
   "metadata": {
    "colab": {
     "background_save": true,
     "base_uri": "https://localhost:8080/",
     "height": 516
    },
    "id": "YfygrEwvDidQ"
   },
   "outputs": [
    {
     "data": {
      "text/plain": [
       "<AxesSubplot:title={'center':'Crime in 2014'}, ylabel='STATE/UT'>"
      ]
     },
     "execution_count": 18,
     "metadata": {},
     "output_type": "execute_result"
    },
    {
     "data": {
      "image/png": "[encoded data removed]",
      "text/plain": [
       "<Figure size 864x576 with 1 Axes>"
      ]
     },
     "metadata": {
      "needs_background": "light"
     },
     "output_type": "display_data"
    }
   ],
   "source": [
    "# Number of crimes state wise in 2014\n",
    "fig = plt.subplots(figsize =(12, 8))\n",
    "table[table.columns[3]].sort_values().plot(kind=\"barh\", title = \"Crime in 2014\")"
   ]
  },
  {
   "cell_type": "code",
   "execution_count": 19,
   "metadata": {
    "colab": {
     "background_save": true,
     "base_uri": "https://localhost:8080/",
     "height": 1000
    },
    "id": "F9n0SPeOEACF"
   },
   "outputs": [
    {
     "data": {
      "image/png": "[encoded data removed]",
      "text/plain": [
       "<Figure size 432x288 with 1 Axes>"
      ]
     },
     "metadata": {
      "needs_background": "light"
     },
     "output_type": "display_data"
    },
    {
     "data": {
      "image/png": "[encoded data removed]",
      "text/plain": [
       "<Figure size 432x288 with 1 Axes>"
      ]
     },
     "metadata": {
      "needs_background": "light"
     },
     "output_type": "display_data"
    },
    {
     "data": {
      "image/png": "[encoded data removed]",
      "text/plain": [
       "<Figure size 432x288 with 1 Axes>"
      ]
     },
     "metadata": {
      "needs_background": "light"
     },
     "output_type": "display_data"
    },
    {
     "data": {
      "image/png": "[encoded data removed]",
      "text/plain": [
       "<Figure size 432x288 with 1 Axes>"
      ]
     },
     "metadata": {
      "needs_background": "light"
     },
     "output_type": "display_data"
    },
    {
     "data": {
      "image/png": "[encoded data removed]",
      "text/plain": [
       "<Figure size 432x288 with 1 Axes>"
      ]
     },
     "metadata": {
      "needs_background": "light"
     },
     "output_type": "display_data"
    },
    {
     "data": {
      "image/png": "[encoded data removed]",
      "text/plain": [
       "<Figure size 432x288 with 1 Axes>"
      ]
     },
     "metadata": {
      "needs_background": "light"
     },
     "output_type": "display_data"
    }
   ],
   "source": [
    "# Crime trends in some states\n",
    "index=table.index.get_loc(\"WEST BENGAL\")\n",
    "row = table.iloc[index]\n",
    "row.plot(kind='line', title=\"Crime trend in West Bengal\")\n",
    "plt.show()\n",
    "index=table.index.get_loc(\"KARNATAKA\")\n",
    "row = table.iloc[index]\n",
    "row.plot(kind='line', title=\"Crime trend in Karnataka\")\n",
    "plt.show()\n",
    "index=table.index.get_loc(\"MAHARASHTRA\")\n",
    "row = table.iloc[index]\n",
    "row.plot(kind='line', title=\"Crime trend in Maharashtra\")\n",
    "plt.show()\n",
    "index=table.index.get_loc(\"UTTAR PRADESH\")\n",
    "row = table.iloc[index]\n",
    "row.plot(kind='line', title=\"Crime trend in Uttar Pradesh\")\n",
    "plt.show()\n",
    "index=table.index.get_loc(\"ANDHRA PRADESH\")\n",
    "row = table.iloc[index]\n",
    "row.plot(kind='line', title=\"Crime trend in Andhra Pradesh\")\n",
    "plt.show()\n",
    "index=table.index.get_loc(\"LAKSHADWEEP\")\n",
    "row = table.iloc[index]\n",
    "row.plot(kind='line', title=\"Crime trend in Lakshadweep\")\n",
    "plt.show()"
   ]
  },
  {
   "cell_type": "markdown",
   "metadata": {
    "id": "FGLeyCkIN1-1"
   },
   "source": [
    "### Percentage Changes"
   ]
  },
  {
   "cell_type": "code",
   "execution_count": 20,
   "metadata": {
    "colab": {
     "background_save": true,
     "base_uri": "https://localhost:8080/"
    },
    "id": "_ZKiKbwmFIu1"
   },
   "outputs": [
    {
     "name": "stdout",
     "output_type": "stream",
     "text": [
      "Lowest number of crimes in 2014: LAKSHADWEEP\n",
      "Highest number of crimes in 2014: WEST BENGAL\n",
      "Lowest number of crimes in 2013: LAKSHADWEEP\n",
      "Highest number of crimes in 2013: UTTAR PRADESH\n",
      "Lowest number of crimes in 2012: LAKSHADWEEP\n",
      "Highest number of crimes in 2012: WEST BENGAL\n",
      "Lowest number of crimes in 2011: LAKSHADWEEP\n",
      "Highest number of crimes in 2011: WEST BENGAL\n"
     ]
    }
   ],
   "source": [
    "df2=df\n",
    "d1 = df2[(df2['Year']==2011) & (df2['DISTRICT']=='TOTAL')]\n",
    "f1=d1.sum(axis=1)\n",
    "f1=f1.apply(lambda x: x-2011)\n",
    "d2 = df2[(df2['Year']==2012) & (df2['DISTRICT']=='TOTAL')]\n",
    "f2=d2.sum(axis=1)\n",
    "f2=f2.apply(lambda x: x-2012)\n",
    "d3 = df2[(df2['Year']==2013) & (df2['DISTRICT']=='TOTAL')]\n",
    "f3=d3.sum(axis=1)\n",
    "f3=f3.apply(lambda x: x-2013)\n",
    "d4 = df2[(df2['Year']==2014) & (df2['DISTRICT']=='TOTAL')]\n",
    "f4=d4.sum(axis=1)\n",
    "f4=f4.apply(lambda x: x-2014)\n",
    "\n",
    "m=f4.idxmin()\n",
    "print(\"Lowest number of crimes in 2014:\",df2.iloc[m,0])\n",
    "m=f4.idxmax()\n",
    "print(\"Highest number of crimes in 2014:\",df2.iloc[m,0])\n",
    "m=f3.idxmin()\n",
    "print(\"Lowest number of crimes in 2013:\",df2.iloc[m,0])\n",
    "m=f3.idxmax()\n",
    "print(\"Highest number of crimes in 2013:\",df2.iloc[m,0])\n",
    "m=f2.idxmin()\n",
    "print(\"Lowest number of crimes in 2012:\",df2.iloc[m,0])\n",
    "m=f2.idxmax()\n",
    "print(\"Highest number of crimes in 2012:\",df2.iloc[m,0])\n",
    "m=f1.idxmin()\n",
    "print(\"Lowest number of crimes in 2011:\",df2.iloc[m,0])\n",
    "m=f1.idxmax()\n",
    "print(\"Highest number of crimes in 2011:\",df2.iloc[m,0])"
   ]
  },
  {
   "cell_type": "code",
   "execution_count": 21,
   "metadata": {
    "colab": {
     "background_save": true
    },
    "id": "LeebA-JaHw1k"
   },
   "outputs": [],
   "source": [
    "sum4=f4.sum()\n",
    "sum3=f3.sum()\n",
    "diff=sum4-sum3"
   ]
  },
  {
   "cell_type": "code",
   "execution_count": 22,
   "metadata": {
    "colab": {
     "background_save": true,
     "base_uri": "https://localhost:8080/"
    },
    "id": "oBFyXCwwGnxL"
   },
   "outputs": [
    {
     "name": "stdout",
     "output_type": "stream",
     "text": [
      "Crime Rate difference from 2013 to 2014\n",
      "Andhra Pradesh:  46.96482646168181  decrease\n",
      "Karnataka:  8.20172373631493  increase\n",
      "West Bengal:  17.514558583740975  increase\n",
      "Uttar Pradesh:  30.74539948753785  increase\n",
      "Lakshadweep:  0.009317493594223155  increase\n"
     ]
    }
   ],
   "source": [
    "print(\"Crime Rate difference from 2013 to 2014\")\n",
    "diff_Andhra=((f1[33]-f4[2445])/diff)*100\n",
    "print(\"Andhra Pradesh: \",diff_Andhra,\" decrease\")\n",
    "diff_Ktk=((11552-8031)/diff)*100\n",
    "print(\"Karnataka: \",diff_Ktk,\" increase\")\n",
    "diff_WB=((36438-28919)/diff)*100\n",
    "print(\"West Bengal: \",diff_WB,\" increase\")\n",
    "diff_UP=((35667-\t22468)/diff)*100\n",
    "print(\"Uttar Pradesh: \",diff_UP,\" increase\")\n",
    "diff_Lak=(4/diff)*100\n",
    "print(\"Lakshadweep: \",diff_Lak,\" increase\")"
   ]
  },
  {
   "cell_type": "markdown",
   "metadata": {
    "id": "zo_cnCrBCdsN"
   },
   "source": [
    "## Crime Trends"
   ]
  },
  {
   "cell_type": "code",
   "execution_count": 23,
   "metadata": {
    "colab": {
     "background_save": true,
     "base_uri": "https://localhost:8080/",
     "height": 312
    },
    "id": "J-m2ESrOCBsP"
   },
   "outputs": [
    {
     "data": {
      "text/plain": [
       "<AxesSubplot:title={'center':'Total Crime Events'}, xlabel='Year'>"
      ]
     },
     "execution_count": 23,
     "metadata": {},
     "output_type": "execute_result"
    },
    {
     "data": {
      "image/png": "[encoded data removed]",
      "text/plain": [
       "<Figure size 432x288 with 1 Axes>"
      ]
     },
     "metadata": {
      "needs_background": "light"
     },
     "output_type": "display_data"
    }
   ],
   "source": [
    "# Crime Trend in the country (2011 to 2014)\n",
    "table.sum().sort_values().plot(kind=\"line\", title = \"Total Crime Events\")"
   ]
  },
  {
   "cell_type": "code",
   "execution_count": 24,
   "metadata": {
    "colab": {
     "background_save": true,
     "base_uri": "https://localhost:8080/",
     "height": 248
    },
    "id": "Q_hLLV03MvIE"
   },
   "outputs": [
    {
     "data": {
      "image/png": "[encoded data removed]",
      "text/plain": [
       "<Figure size 432x288 with 1 Axes>"
      ]
     },
     "metadata": {},
     "output_type": "display_data"
    }
   ],
   "source": [
    "import matplotlib.pyplot as plt\n",
    "import seaborn as sns\n",
    "\n",
    "sum1=df['Importation of Girls'].sum()\n",
    "sum2=df['Kidnapping and Abduction'].sum()\n",
    "sum3=df['Rape'].sum()\n",
    "sum4=df['Dowry Deaths'].sum()\n",
    "sum5=df['Assault on women with intent to outrage her modesty'].sum()\n",
    "sum6=df['Insult to modesty of Women'].sum()\n",
    "sum7=df['Cruelty by Husband or his Relatives'].sum()\n",
    "\n",
    "data = [sum1, sum2, sum3, sum4, sum5,sum6,sum7]\n",
    "labels = ['Importation', 'Kidnapping', 'Rape', 'Dowry', 'Outrage to modesty', 'Insult to Women', 'Cruelty by Husband']\n",
    "\n",
    "colors = sns.color_palette('mako')[0:7]\n",
    "\n",
    "plt.pie(data, labels = labels, colors = colors, autopct='%.0f%%')\n",
    "plt.show()"
   ]
  },
  {
   "cell_type": "markdown",
   "metadata": {
    "id": "2vkE8BkLIVNB"
   },
   "source": [
    "## Task 2  \n",
    "Safety Index"
   ]
  },
  {
   "cell_type": "code",
   "execution_count": 25,
   "metadata": {
    "colab": {
     "background_save": true
    },
    "id": "SLqsyQneIUUh"
   },
   "outputs": [],
   "source": [
    "weights = pd.Series([6,4,5,3,2,1,7], index=['Rape', 'Kidnapping and Abduction', 'Dowry Deaths',\n",
    "                'Assault on women with intent to outrage her modesty','Insult to modesty of Women','Cruelty by Husband or his Relatives',\n",
    "                                                                'Importation of Girls'])\n",
    "df['wsum']=(df * weights).sum(1)\n",
    "df.wsum= (10 - df.wsum/1500)*10\n",
    "safety_index = df.drop(\"Total\",1)\n",
    "safety_index = safety_index.rename(columns={'wsum':'Safety Index'})\n",
    "safety_index.to_csv(\"dataset_safety_index.csv\")"
   ]
  },
  {
   "cell_type": "code",
   "execution_count": 26,
   "metadata": {
    "colab": {
     "background_save": true,
     "base_uri": "https://localhost:8080/",
     "height": 357
    },
    "id": "A568r8UoDEie"
   },
   "outputs": [
    {
     "data": {
      "text/html": [
       "<div>\n",
       "<style scoped>\n",
       "    .dataframe tbody tr th:only-of-type {\n",
       "        vertical-align: middle;\n",
       "    }\n",
       "\n",
       "    .dataframe tbody tr th {\n",
       "        vertical-align: top;\n",
       "    }\n",
       "\n",
       "    .dataframe thead th {\n",
       "        text-align: right;\n",
       "    }\n",
       "</style>\n",
       "<table border=\"1\" class=\"dataframe\">\n",
       "  <thead>\n",
       "    <tr style=\"text-align: right;\">\n",
       "      <th></th>\n",
       "      <th>STATE/UT</th>\n",
       "      <th>DISTRICT</th>\n",
       "      <th>Year</th>\n",
       "      <th>Safety Index</th>\n",
       "    </tr>\n",
       "  </thead>\n",
       "  <tbody>\n",
       "    <tr>\n",
       "      <th>0</th>\n",
       "      <td>ANDHRA PRADESH</td>\n",
       "      <td>ADILABAD</td>\n",
       "      <td>2011</td>\n",
       "      <td>87.113333</td>\n",
       "    </tr>\n",
       "    <tr>\n",
       "      <th>1</th>\n",
       "      <td>ANDHRA PRADESH</td>\n",
       "      <td>ANANTAPUR</td>\n",
       "      <td>2011</td>\n",
       "      <td>91.293333</td>\n",
       "    </tr>\n",
       "    <tr>\n",
       "      <th>2</th>\n",
       "      <td>ANDHRA PRADESH</td>\n",
       "      <td>CHITTOOR</td>\n",
       "      <td>2011</td>\n",
       "      <td>89.706667</td>\n",
       "    </tr>\n",
       "    <tr>\n",
       "      <th>3</th>\n",
       "      <td>ANDHRA PRADESH</td>\n",
       "      <td>CUDDAPAH</td>\n",
       "      <td>2011</td>\n",
       "      <td>92.206667</td>\n",
       "    </tr>\n",
       "    <tr>\n",
       "      <th>4</th>\n",
       "      <td>ANDHRA PRADESH</td>\n",
       "      <td>CYBERABAD</td>\n",
       "      <td>2011</td>\n",
       "      <td>76.653333</td>\n",
       "    </tr>\n",
       "    <tr>\n",
       "      <th>5</th>\n",
       "      <td>ANDHRA PRADESH</td>\n",
       "      <td>EAST GODAVARI</td>\n",
       "      <td>2011</td>\n",
       "      <td>84.853333</td>\n",
       "    </tr>\n",
       "    <tr>\n",
       "      <th>6</th>\n",
       "      <td>ANDHRA PRADESH</td>\n",
       "      <td>GUNTAKAL RAILWAY</td>\n",
       "      <td>2011</td>\n",
       "      <td>99.953333</td>\n",
       "    </tr>\n",
       "    <tr>\n",
       "      <th>7</th>\n",
       "      <td>ANDHRA PRADESH</td>\n",
       "      <td>GUNTUR</td>\n",
       "      <td>2011</td>\n",
       "      <td>86.993333</td>\n",
       "    </tr>\n",
       "    <tr>\n",
       "      <th>8</th>\n",
       "      <td>ANDHRA PRADESH</td>\n",
       "      <td>GUNTUR URBAN</td>\n",
       "      <td>2011</td>\n",
       "      <td>91.900000</td>\n",
       "    </tr>\n",
       "    <tr>\n",
       "      <th>9</th>\n",
       "      <td>ANDHRA PRADESH</td>\n",
       "      <td>HYDERABAD CITY</td>\n",
       "      <td>2011</td>\n",
       "      <td>81.953333</td>\n",
       "    </tr>\n",
       "  </tbody>\n",
       "</table>\n",
       "</div>"
      ],
      "text/plain": [
       "         STATE/UT          DISTRICT  Year  Safety Index\n",
       "0  ANDHRA PRADESH          ADILABAD  2011     87.113333\n",
       "1  ANDHRA PRADESH         ANANTAPUR  2011     91.293333\n",
       "2  ANDHRA PRADESH          CHITTOOR  2011     89.706667\n",
       "3  ANDHRA PRADESH          CUDDAPAH  2011     92.206667\n",
       "4  ANDHRA PRADESH         CYBERABAD  2011     76.653333\n",
       "5  ANDHRA PRADESH     EAST GODAVARI  2011     84.853333\n",
       "6  ANDHRA PRADESH  GUNTAKAL RAILWAY  2011     99.953333\n",
       "7  ANDHRA PRADESH            GUNTUR  2011     86.993333\n",
       "8  ANDHRA PRADESH      GUNTUR URBAN  2011     91.900000\n",
       "9  ANDHRA PRADESH    HYDERABAD CITY  2011     81.953333"
      ]
     },
     "execution_count": 26,
     "metadata": {},
     "output_type": "execute_result"
    }
   ],
   "source": [
    "district_crimes = df[df.DISTRICT!=\"TOTAL\"]\n",
    "district_crimes=district_crimes.drop(['Rape' , 'Kidnapping and Abduction', 'Dowry Deaths', 'Assault on women with intent to outrage her modesty','Insult to modesty of Women',\n",
    "                      'Cruelty by Husband or his Relatives','Importation of Girls','Total'], axis=1)\n",
    "district_crimes = district_crimes.rename(columns={'wsum':'Safety Index'})\n",
    "district_crimes.head(10)"
   ]
  },
  {
   "cell_type": "code",
   "execution_count": 27,
   "metadata": {
    "colab": {
     "background_save": true,
     "base_uri": "https://localhost:8080/",
     "height": 388
    },
    "id": "uroxHOC7IjN5"
   },
   "outputs": [
    {
     "data": {
      "text/html": [
       "<div>\n",
       "<style scoped>\n",
       "    .dataframe tbody tr th:only-of-type {\n",
       "        vertical-align: middle;\n",
       "    }\n",
       "\n",
       "    .dataframe tbody tr th {\n",
       "        vertical-align: top;\n",
       "    }\n",
       "\n",
       "    .dataframe thead th {\n",
       "        text-align: right;\n",
       "    }\n",
       "</style>\n",
       "<table border=\"1\" class=\"dataframe\">\n",
       "  <thead>\n",
       "    <tr style=\"text-align: right;\">\n",
       "      <th>Year</th>\n",
       "      <th>2011</th>\n",
       "      <th>2012</th>\n",
       "      <th>2013</th>\n",
       "      <th>2014</th>\n",
       "    </tr>\n",
       "    <tr>\n",
       "      <th>DISTRICT</th>\n",
       "      <th></th>\n",
       "      <th></th>\n",
       "      <th></th>\n",
       "      <th></th>\n",
       "    </tr>\n",
       "  </thead>\n",
       "  <tbody>\n",
       "    <tr>\n",
       "      <th>24 PARGANAS NORTH-WEST BENGAL</th>\n",
       "      <td>54.433333</td>\n",
       "      <td>67.326667</td>\n",
       "      <td>69.666667</td>\n",
       "      <td>NaN</td>\n",
       "    </tr>\n",
       "    <tr>\n",
       "      <th>24 PARGANAS SOUTH-WEST BENGAL</th>\n",
       "      <td>57.220000</td>\n",
       "      <td>64.800000</td>\n",
       "      <td>62.766667</td>\n",
       "      <td>NaN</td>\n",
       "    </tr>\n",
       "    <tr>\n",
       "      <th>ADILABAD-ANDHRA PRADESH</th>\n",
       "      <td>87.113333</td>\n",
       "      <td>87.433333</td>\n",
       "      <td>87.033333</td>\n",
       "      <td>NaN</td>\n",
       "    </tr>\n",
       "    <tr>\n",
       "      <th>ADILABAD-TELANGANA</th>\n",
       "      <td>NaN</td>\n",
       "      <td>NaN</td>\n",
       "      <td>NaN</td>\n",
       "      <td>88.200000</td>\n",
       "    </tr>\n",
       "    <tr>\n",
       "      <th>AGAR-MADHYA PRADESH</th>\n",
       "      <td>NaN</td>\n",
       "      <td>NaN</td>\n",
       "      <td>97.760000</td>\n",
       "      <td>96.973333</td>\n",
       "    </tr>\n",
       "    <tr>\n",
       "      <th>AGRA-UTTAR PRADESH</th>\n",
       "      <td>79.120000</td>\n",
       "      <td>83.133333</td>\n",
       "      <td>77.240000</td>\n",
       "      <td>76.553333</td>\n",
       "    </tr>\n",
       "    <tr>\n",
       "      <th>AHMEDABAD CITY-GUJARAT</th>\n",
       "      <td>NaN</td>\n",
       "      <td>NaN</td>\n",
       "      <td>NaN</td>\n",
       "      <td>80.046667</td>\n",
       "    </tr>\n",
       "    <tr>\n",
       "      <th>AHMEDABAD COMMR.-GUJARAT</th>\n",
       "      <td>80.920000</td>\n",
       "      <td>80.906667</td>\n",
       "      <td>69.866667</td>\n",
       "      <td>NaN</td>\n",
       "    </tr>\n",
       "    <tr>\n",
       "      <th>AHMEDABAD RURAL-GUJARAT</th>\n",
       "      <td>96.360000</td>\n",
       "      <td>96.266667</td>\n",
       "      <td>95.893333</td>\n",
       "      <td>95.580000</td>\n",
       "    </tr>\n",
       "    <tr>\n",
       "      <th>AHMEDNAGAR-MAHARASHTRA</th>\n",
       "      <td>86.460000</td>\n",
       "      <td>88.693333</td>\n",
       "      <td>86.066667</td>\n",
       "      <td>85.933333</td>\n",
       "    </tr>\n",
       "  </tbody>\n",
       "</table>\n",
       "</div>"
      ],
      "text/plain": [
       "Year                                2011       2012       2013       2014\n",
       "DISTRICT                                                                 \n",
       "24 PARGANAS NORTH-WEST BENGAL  54.433333  67.326667  69.666667        NaN\n",
       "24 PARGANAS SOUTH-WEST BENGAL  57.220000  64.800000  62.766667        NaN\n",
       "ADILABAD-ANDHRA PRADESH        87.113333  87.433333  87.033333        NaN\n",
       "ADILABAD-TELANGANA                   NaN        NaN        NaN  88.200000\n",
       "AGAR-MADHYA PRADESH                  NaN        NaN  97.760000  96.973333\n",
       "AGRA-UTTAR PRADESH             79.120000  83.133333  77.240000  76.553333\n",
       "AHMEDABAD CITY-GUJARAT               NaN        NaN        NaN  80.046667\n",
       "AHMEDABAD COMMR.-GUJARAT       80.920000  80.906667  69.866667        NaN\n",
       "AHMEDABAD RURAL-GUJARAT        96.360000  96.266667  95.893333  95.580000\n",
       "AHMEDNAGAR-MAHARASHTRA         86.460000  88.693333  86.066667  85.933333"
      ]
     },
     "execution_count": 27,
     "metadata": {},
     "output_type": "execute_result"
    }
   ],
   "source": [
    "district_crimes.DISTRICT=district_crimes.DISTRICT+\"-\"+(district_crimes['STATE/UT'])\n",
    "district_crimes=district_crimes.drop(['STATE/UT'], axis=1)\n",
    "district_table=pd.pivot(district_crimes, values ='Safety Index',columns ='Year', index='DISTRICT')\n",
    "district_table.head(10)"
   ]
  },
  {
   "cell_type": "markdown",
   "metadata": {
    "colab": {
     "background_save": true
    },
    "id": "z-1grbrwJiDx"
   },
   "source": [
    "## Task 3\n",
    "Safety Index Prediction Model"
   ]
  },
  {
   "cell_type": "code",
   "execution_count": 30,
   "metadata": {},
   "outputs": [
    {
     "data": {
      "text/html": [
       "<div>\n",
       "<style scoped>\n",
       "    .dataframe tbody tr th:only-of-type {\n",
       "        vertical-align: middle;\n",
       "    }\n",
       "\n",
       "    .dataframe tbody tr th {\n",
       "        vertical-align: top;\n",
       "    }\n",
       "\n",
       "    .dataframe thead th {\n",
       "        text-align: right;\n",
       "    }\n",
       "</style>\n",
       "<table border=\"1\" class=\"dataframe\">\n",
       "  <thead>\n",
       "    <tr style=\"text-align: right;\">\n",
       "      <th></th>\n",
       "      <th>DISTRICT</th>\n",
       "      <th>Year</th>\n",
       "      <th>Safety Index</th>\n",
       "    </tr>\n",
       "  </thead>\n",
       "  <tbody>\n",
       "    <tr>\n",
       "      <th>0</th>\n",
       "      <td>ADILABAD</td>\n",
       "      <td>2011</td>\n",
       "      <td>87.113333</td>\n",
       "    </tr>\n",
       "    <tr>\n",
       "      <th>1</th>\n",
       "      <td>ANANTAPUR</td>\n",
       "      <td>2011</td>\n",
       "      <td>91.293333</td>\n",
       "    </tr>\n",
       "    <tr>\n",
       "      <th>2</th>\n",
       "      <td>CHITTOOR</td>\n",
       "      <td>2011</td>\n",
       "      <td>89.706667</td>\n",
       "    </tr>\n",
       "    <tr>\n",
       "      <th>3</th>\n",
       "      <td>CUDDAPAH</td>\n",
       "      <td>2011</td>\n",
       "      <td>92.206667</td>\n",
       "    </tr>\n",
       "    <tr>\n",
       "      <th>4</th>\n",
       "      <td>CYBERABAD</td>\n",
       "      <td>2011</td>\n",
       "      <td>76.653333</td>\n",
       "    </tr>\n",
       "    <tr>\n",
       "      <th>...</th>\n",
       "      <td>...</td>\n",
       "      <td>...</td>\n",
       "      <td>...</td>\n",
       "    </tr>\n",
       "    <tr>\n",
       "      <th>3254</th>\n",
       "      <td>VIGILANCE</td>\n",
       "      <td>2014</td>\n",
       "      <td>100.000000</td>\n",
       "    </tr>\n",
       "    <tr>\n",
       "      <th>3255</th>\n",
       "      <td>WEST</td>\n",
       "      <td>2014</td>\n",
       "      <td>61.673333</td>\n",
       "    </tr>\n",
       "    <tr>\n",
       "      <th>3257</th>\n",
       "      <td>LAKSHADWEEP</td>\n",
       "      <td>2014</td>\n",
       "      <td>99.913333</td>\n",
       "    </tr>\n",
       "    <tr>\n",
       "      <th>3259</th>\n",
       "      <td>KARAIKAL</td>\n",
       "      <td>2014</td>\n",
       "      <td>99.593333</td>\n",
       "    </tr>\n",
       "    <tr>\n",
       "      <th>3260</th>\n",
       "      <td>PUDUCHERRY</td>\n",
       "      <td>2014</td>\n",
       "      <td>99.013333</td>\n",
       "    </tr>\n",
       "  </tbody>\n",
       "</table>\n",
       "<p>3123 rows × 3 columns</p>\n",
       "</div>"
      ],
      "text/plain": [
       "         DISTRICT  Year  Safety Index\n",
       "0        ADILABAD  2011     87.113333\n",
       "1       ANANTAPUR  2011     91.293333\n",
       "2        CHITTOOR  2011     89.706667\n",
       "3        CUDDAPAH  2011     92.206667\n",
       "4       CYBERABAD  2011     76.653333\n",
       "...           ...   ...           ...\n",
       "3254    VIGILANCE  2014    100.000000\n",
       "3255         WEST  2014     61.673333\n",
       "3257  LAKSHADWEEP  2014     99.913333\n",
       "3259     KARAIKAL  2014     99.593333\n",
       "3260   PUDUCHERRY  2014     99.013333\n",
       "\n",
       "[3123 rows x 3 columns]"
      ]
     },
     "execution_count": 30,
     "metadata": {},
     "output_type": "execute_result"
    }
   ],
   "source": [
    "district_crimes = df[df.DISTRICT!=\"TOTAL\"]\n",
    "district_crimes=district_crimes.drop(['Rape' , 'Kidnapping and Abduction', 'Dowry Deaths', 'Assault on women with intent to outrage her modesty','Insult to modesty of Women',\n",
    "                      'Cruelty by Husband or his Relatives','Importation of Girls','Total'], axis=1)\n",
    "district_crimes.head(10)\n",
    "district_crimes = district_crimes.rename(columns={'wsum':'Safety Index'})\n",
    "d1=district_crimes.drop(['STATE/UT'],1)\n",
    "d1"
   ]
  },
  {
   "cell_type": "code",
   "execution_count": 31,
   "metadata": {},
   "outputs": [
    {
     "data": {
      "text/html": [
       "<div>\n",
       "<style scoped>\n",
       "    .dataframe tbody tr th:only-of-type {\n",
       "        vertical-align: middle;\n",
       "    }\n",
       "\n",
       "    .dataframe tbody tr th {\n",
       "        vertical-align: top;\n",
       "    }\n",
       "\n",
       "    .dataframe thead th {\n",
       "        text-align: right;\n",
       "    }\n",
       "</style>\n",
       "<table border=\"1\" class=\"dataframe\">\n",
       "  <thead>\n",
       "    <tr style=\"text-align: right;\">\n",
       "      <th></th>\n",
       "      <th>District</th>\n",
       "    </tr>\n",
       "  </thead>\n",
       "  <tbody>\n",
       "    <tr>\n",
       "      <th>0</th>\n",
       "      <td>ADILABAD</td>\n",
       "    </tr>\n",
       "    <tr>\n",
       "      <th>1</th>\n",
       "      <td>ANANTAPUR</td>\n",
       "    </tr>\n",
       "    <tr>\n",
       "      <th>2</th>\n",
       "      <td>CHITTOOR</td>\n",
       "    </tr>\n",
       "    <tr>\n",
       "      <th>3</th>\n",
       "      <td>CUDDAPAH</td>\n",
       "    </tr>\n",
       "    <tr>\n",
       "      <th>4</th>\n",
       "      <td>CYBERABAD</td>\n",
       "    </tr>\n",
       "    <tr>\n",
       "      <th>...</th>\n",
       "      <td>...</td>\n",
       "    </tr>\n",
       "    <tr>\n",
       "      <th>861</th>\n",
       "      <td>NORTH &amp; MIDDLE ANDAMAN</td>\n",
       "    </tr>\n",
       "    <tr>\n",
       "      <th>862</th>\n",
       "      <td>METRO</td>\n",
       "    </tr>\n",
       "    <tr>\n",
       "      <th>863</th>\n",
       "      <td>SPL CELL</td>\n",
       "    </tr>\n",
       "    <tr>\n",
       "      <th>864</th>\n",
       "      <td>SPUWAC</td>\n",
       "    </tr>\n",
       "    <tr>\n",
       "      <th>865</th>\n",
       "      <td>VIGILANCE</td>\n",
       "    </tr>\n",
       "  </tbody>\n",
       "</table>\n",
       "<p>866 rows × 1 columns</p>\n",
       "</div>"
      ],
      "text/plain": [
       "                   District\n",
       "0                  ADILABAD\n",
       "1                 ANANTAPUR\n",
       "2                  CHITTOOR\n",
       "3                  CUDDAPAH\n",
       "4                 CYBERABAD\n",
       "..                      ...\n",
       "861  NORTH & MIDDLE ANDAMAN\n",
       "862                   METRO\n",
       "863                SPL CELL\n",
       "864                  SPUWAC\n",
       "865               VIGILANCE\n",
       "\n",
       "[866 rows x 1 columns]"
      ]
     },
     "execution_count": 31,
     "metadata": {},
     "output_type": "execute_result"
    }
   ],
   "source": [
    "d=district_crimes\n",
    "dist_to_num = pd.DataFrame(columns=['District'])\n",
    "dist_to_num.reset_index()\n",
    "dist_to_num.District=df.DISTRICT.unique()\n",
    "dist_to_num"
   ]
  },
  {
   "cell_type": "code",
   "execution_count": 33,
   "metadata": {},
   "outputs": [
    {
     "name": "stdout",
     "output_type": "stream",
     "text": [
      "7\n"
     ]
    }
   ],
   "source": [
    "dist_to_num=dist_to_num.set_index('District')\n",
    "index=dist_to_num.index.get_loc(\"GUNTUR\")\n",
    "print(index)"
   ]
  },
  {
   "cell_type": "code",
   "execution_count": 34,
   "metadata": {},
   "outputs": [],
   "source": [
    "for i in district_crimes.DISTRICT.unique():\n",
    "    d1=d1.replace(i,dist_to_num.index.get_loc(i))"
   ]
  },
  {
   "cell_type": "code",
   "execution_count": 35,
   "metadata": {},
   "outputs": [
    {
     "data": {
      "text/html": [
       "<div>\n",
       "<style scoped>\n",
       "    .dataframe tbody tr th:only-of-type {\n",
       "        vertical-align: middle;\n",
       "    }\n",
       "\n",
       "    .dataframe tbody tr th {\n",
       "        vertical-align: top;\n",
       "    }\n",
       "\n",
       "    .dataframe thead th {\n",
       "        text-align: right;\n",
       "    }\n",
       "</style>\n",
       "<table border=\"1\" class=\"dataframe\">\n",
       "  <thead>\n",
       "    <tr style=\"text-align: right;\">\n",
       "      <th></th>\n",
       "      <th>DISTRICT</th>\n",
       "      <th>Year</th>\n",
       "      <th>Safety Index</th>\n",
       "    </tr>\n",
       "  </thead>\n",
       "  <tbody>\n",
       "    <tr>\n",
       "      <th>0</th>\n",
       "      <td>0</td>\n",
       "      <td>2011</td>\n",
       "      <td>87.113333</td>\n",
       "    </tr>\n",
       "    <tr>\n",
       "      <th>1</th>\n",
       "      <td>1</td>\n",
       "      <td>2011</td>\n",
       "      <td>91.293333</td>\n",
       "    </tr>\n",
       "    <tr>\n",
       "      <th>2</th>\n",
       "      <td>2</td>\n",
       "      <td>2011</td>\n",
       "      <td>89.706667</td>\n",
       "    </tr>\n",
       "    <tr>\n",
       "      <th>3</th>\n",
       "      <td>3</td>\n",
       "      <td>2011</td>\n",
       "      <td>92.206667</td>\n",
       "    </tr>\n",
       "    <tr>\n",
       "      <th>4</th>\n",
       "      <td>4</td>\n",
       "      <td>2011</td>\n",
       "      <td>76.653333</td>\n",
       "    </tr>\n",
       "    <tr>\n",
       "      <th>...</th>\n",
       "      <td>...</td>\n",
       "      <td>...</td>\n",
       "      <td>...</td>\n",
       "    </tr>\n",
       "    <tr>\n",
       "      <th>3254</th>\n",
       "      <td>865</td>\n",
       "      <td>2014</td>\n",
       "      <td>100.000000</td>\n",
       "    </tr>\n",
       "    <tr>\n",
       "      <th>3255</th>\n",
       "      <td>566</td>\n",
       "      <td>2014</td>\n",
       "      <td>61.673333</td>\n",
       "    </tr>\n",
       "    <tr>\n",
       "      <th>3257</th>\n",
       "      <td>737</td>\n",
       "      <td>2014</td>\n",
       "      <td>99.913333</td>\n",
       "    </tr>\n",
       "    <tr>\n",
       "      <th>3259</th>\n",
       "      <td>738</td>\n",
       "      <td>2014</td>\n",
       "      <td>99.593333</td>\n",
       "    </tr>\n",
       "    <tr>\n",
       "      <th>3260</th>\n",
       "      <td>739</td>\n",
       "      <td>2014</td>\n",
       "      <td>99.013333</td>\n",
       "    </tr>\n",
       "  </tbody>\n",
       "</table>\n",
       "<p>3123 rows × 3 columns</p>\n",
       "</div>"
      ],
      "text/plain": [
       "      DISTRICT  Year  Safety Index\n",
       "0            0  2011     87.113333\n",
       "1            1  2011     91.293333\n",
       "2            2  2011     89.706667\n",
       "3            3  2011     92.206667\n",
       "4            4  2011     76.653333\n",
       "...        ...   ...           ...\n",
       "3254       865  2014    100.000000\n",
       "3255       566  2014     61.673333\n",
       "3257       737  2014     99.913333\n",
       "3259       738  2014     99.593333\n",
       "3260       739  2014     99.013333\n",
       "\n",
       "[3123 rows x 3 columns]"
      ]
     },
     "execution_count": 35,
     "metadata": {},
     "output_type": "execute_result"
    }
   ],
   "source": [
    "d1"
   ]
  },
  {
   "cell_type": "code",
   "execution_count": 36,
   "metadata": {},
   "outputs": [],
   "source": [
    "from sklearn.model_selection import train_test_split\n",
    "from sklearn.linear_model import LinearRegression \n",
    "from sklearn.metrics import mean_squared_error\n",
    "import matplotlib.pyplot as plt\n",
    "import pandas as pd\n",
    "import numpy as np"
   ]
  },
  {
   "cell_type": "code",
   "execution_count": 39,
   "metadata": {},
   "outputs": [],
   "source": [
    "X= d1.drop(['Safety Index'],1)\n",
    "Y=d1['Safety Index']"
   ]
  },
  {
   "cell_type": "code",
   "execution_count": 40,
   "metadata": {},
   "outputs": [
    {
     "name": "stdout",
     "output_type": "stream",
     "text": [
      "0.008525624725725045\n"
     ]
    }
   ],
   "source": [
    "model = LinearRegression()\n",
    "x_train, x_test, y_train, y_test = train_test_split(X,Y,test_size=0.1)\n",
    "model.fit(x_train, y_train)\n",
    "acc=model.score(x_test,y_test) \n",
    "print(acc)"
   ]
  },
  {
   "cell_type": "code",
   "execution_count": 46,
   "metadata": {},
   "outputs": [
    {
     "name": "stdout",
     "output_type": "stream",
     "text": [
      "District: \n",
      "chittoor\n",
      "Year\n",
      "2222\n"
     ]
    }
   ],
   "source": [
    "print(\"District: \")\n",
    "dist=input()\n",
    "print(\"Year\")\n",
    "year=int(input())"
   ]
  },
  {
   "cell_type": "code",
   "execution_count": 47,
   "metadata": {},
   "outputs": [
    {
     "data": {
      "text/plain": [
       "2"
      ]
     },
     "execution_count": 47,
     "metadata": {},
     "output_type": "execute_result"
    }
   ],
   "source": [
    "ind=dist_to_num.index.get_loc(dist.upper())\n",
    "ind"
   ]
  },
  {
   "cell_type": "code",
   "execution_count": 48,
   "metadata": {},
   "outputs": [
    {
     "data": {
      "text/plain": [
       "-56.26911075822659"
      ]
     },
     "execution_count": 48,
     "metadata": {},
     "output_type": "execute_result"
    }
   ],
   "source": [
    "model.predict([[ind,year]])[0]"
   ]
  },
  {
   "cell_type": "code",
   "execution_count": null,
   "metadata": {},
   "outputs": [],
   "source": []
  }
 ],
 "metadata": {
  "colab": {
   "collapsed_sections": [
    "xSZZBPvPApgW",
    "RNPQQnz5BGjA",
    "2vkE8BkLIVNB"
   ],
   "name": "Datathon_MahilAI.ipynb",
   "version": ""
  },
  "kernelspec": {
   "display_name": "Python 3",
   "language": "python",
   "name": "python3"
  },
  "language_info": {
   "codemirror_mode": {
    "name": "ipython",
    "version": 3
   },
   "file_extension": ".py",
   "mimetype": "text/x-python",
   "name": "python",
   "nbconvert_exporter": "python",
   "pygments_lexer": "ipython3",
   "version": "3.8.10"
  }
 },
 "nbformat": 4,
 "nbformat_minor": 1
}
